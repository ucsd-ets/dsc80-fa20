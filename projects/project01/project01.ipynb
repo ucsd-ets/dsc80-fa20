{
 "cells": [
  {
   "cell_type": "markdown",
   "metadata": {},
   "source": [
    "# DSC 80: Project 01\n",
    "\n",
    "### Checkpoint Due Date: Monday, October 12, 11:59:59 PM (Questions 1-4)\n",
    "### Due Date: Monday, October 19, 11:59:59 PM"
   ]
  },
  {
   "cell_type": "markdown",
   "metadata": {},
   "source": [
    "---\n",
    "# Instructions\n",
    "\n",
    "This Jupyter Notebook contains the statements of the problems and provides code and markdown cells to display your answers to the problems.  \n",
    "* Like the lab, your coding work will be developed in the accompanying `project01.py` file, that will be imported into the current notebook. This code will be autograded.\n",
    "* **For the checkpoint, turn in questions 1-4**\n",
    "\n",
    "**Do not change the function names in the `*.py` file**\n",
    "- The functions in the `*.py` file are how your assignment is graded, and they are graded by their name. The dictionary at the end of the file (`GRADED FUNCTIONS`) contains the \"grading list\". The final function in the file allows your doctests to check that all the necessary functions exist.\n",
    "- If you changed something you weren't supposed to, just use git to revert!\n",
    "\n",
    "**Tips for developing in the .py file**:\n",
    "- Do not change the function names in the starter code; grading is done using these function names.\n",
    "- Do not change the docstrings in the functions. These are there to tell you if your work is on the right track!\n",
    "- You are **encouraged to write your own additional functions** to solve the questions! \n",
    "    - Developing in python usually consists of larger files, with many short functions.\n",
    "    - You may write your other functions in an additional `.py` file that you import in `project01.py` -- however, be sure to upload these to gradescope as well!\n",
    "- Always document your code!\n",
    "\n",
    "**Tips for testing the correctness of your answers!**\n",
    "Once you have your work saved in the .py file, you should import the `project01` to test your function out in the notebook. In the notebook you should inspect/analyze the output to assess its correctness!\n",
    "* Run your functions on the main dataset (`grades`) and ask yourself if the output *looks correct.*\n",
    "* Run your functions on very small datasets (e.g. 1-5 row table), calculate the expected response by hand, and see if the function output matches (this *is* unit-testing your code with data).\n",
    "* Run your functions on (large and small) samples of the dataset `grades` (with and without replacement). Does your code break? Or does it still run as expected."
   ]
  },
  {
   "cell_type": "code",
   "execution_count": 1,
   "metadata": {},
   "outputs": [],
   "source": [
    "%load_ext autoreload\n",
    "%autoreload 2"
   ]
  },
  {
   "cell_type": "code",
   "execution_count": 2,
   "metadata": {},
   "outputs": [],
   "source": [
    "import project01 as proj"
   ]
  },
  {
   "cell_type": "code",
   "execution_count": 3,
   "metadata": {},
   "outputs": [],
   "source": [
    "import pandas as pd\n",
    "import numpy as np\n",
    "import os"
   ]
  },
  {
   "cell_type": "markdown",
   "metadata": {},
   "source": [
    "# The Other Side of Gradescope\n",
    "\n",
    "The file contains the grade-book from a fictional data science course with 535 students. \n",
    "\n",
    "**Note: this dataset is synthetically generated; it does not contain real student grades.**\n",
    "\n",
    "In this project, you will:\n",
    "1. clean and process the data to compute total course grades according to a fictional syllabus (below),\n",
    "2. qualitatively understand how students did in the course,\n",
    "3. understand how student grades vary with small changes in performance on each assignment.\n",
    "\n",
    "---\n",
    "\n",
    "The course syllabus is as follows:\n",
    "\n",
    "* Lab assignments \n",
    "    - Each are worth the same amount, regardless of each lab's raw point total.\n",
    "    - The lowest lab is dropped.\n",
    "    - Each lab may be revised for one week after submission for a 10% penalty, for two weeks after submission for a 30% penalty, and beyond that for a 60% penalty. Such revisions are reflected in the `Lateness` columns in the gradebook.\n",
    "    - Labs are 20% of the total grade.\n",
    "* Projects \n",
    "    - Each project consists of an autograded portion, and *possibly* a free response portion.\n",
    "    - The total points for a single project consist of the sum of the raw score of the two portions.\n",
    "    - Each are worth the same amount, regardless of each project's raw point total.\n",
    "    - Projects are 30% of the total grade.\n",
    "* Checkpoints\n",
    "    - Project checkpoints are worth 2.5% of the total grade.\n",
    "* Discussion\n",
    "    - Discussion notebooks are worth 2.5% of the total grade.\n",
    "* Exams\n",
    "    - The midterm is worth 15% of the total grade.\n",
    "    - The final is worth 30% of the total grade.\n"
   ]
  },
  {
   "cell_type": "markdown",
   "metadata": {},
   "source": [
    "### A note on generalization\n",
    "\n",
    "You may assume that your code will only need to work on a gradebook for a class with the syllabus given above. That is, you may assume that the dataframe `grades` looks like the given one in `data/grades.csv`.\n",
    "\n",
    "However, such a class:\n",
    "1. may have a different numbers of labs, projects, discussions, and project checkpoints.\n",
    "2. may have a different number of students.\n",
    "\n",
    "You may assume the course components and the naming conventions are as given in the data file.\n",
    "\n",
    "The dataset was generated by Gradescope; you must attempt to reason about the data as given using what you know as a student who uses Gradescope.\n",
    "\n",
    "### A note on 'putting everything together'\n",
    "\n",
    "The goal of this project is to create and assess final grades for a fictional course; if anything, the process is broken down into functions for your convenience and guidance. Here are a few remarks and tips for approaching the projects:\n",
    "1. If you are having trouble figuring out what a question is asking you to do, look at the big picture and try to understand what the current step is doing to contribute to this big picture. This may clarify what's being asked!\n",
    "1. These questions intentionally build off of each other and the final result matters! In fact, you can 'get a question correct', but only receive partial credit on it because a previous answer was wrong.\n",
    "    - Credit for a question will typically receive partial credit based on *how close* your answer is to correct (as well as some credit for a solution in the correct form). \n",
    "    - You should try to assess your answer to each question based on what you understand of the data. This might involve writing extensive code (that isn't turned in) just to check your work! Suggestions on checking your work are given in the assignment, but you should also think of your own ways of checking your work.\n",
    "    - As you do this project, think about the data from the perspective of the student (which should be easy to do!)"
   ]
  },
  {
   "cell_type": "code",
   "execution_count": 4,
   "metadata": {},
   "outputs": [],
   "source": [
    "grades_fp = os.path.join('data', 'grades.csv')\n",
    "grades = pd.read_csv(grades_fp)"
   ]
  },
  {
   "cell_type": "markdown",
   "metadata": {},
   "source": [
    "### Getting started: enumerating the assignments\n",
    "\n",
    "First, you will list all the 'assignment names' and what part of the syllabus to which they belong.\n",
    "\n",
    "**Question 1:**\n",
    "\n",
    "Create a function `get_assignment_names` that takes in a dataframe like `grades` and returns a dictionary with the following structure:\n",
    "- The keys are the general areas of the syllabus: `lab, project, midterm, final, disc, checkpoint`\n",
    "- The values are lists that contain the assignment names of that type. For example the lab assignments all have names of the form `labXX` where `XX` is a zero-padded two digit number. See the doctests for more details."
   ]
  },
  {
   "cell_type": "code",
   "execution_count": 5,
   "metadata": {},
   "outputs": [
    {
     "data": {
      "text/html": [
       "<div>\n",
       "<style scoped>\n",
       "    .dataframe tbody tr th:only-of-type {\n",
       "        vertical-align: middle;\n",
       "    }\n",
       "\n",
       "    .dataframe tbody tr th {\n",
       "        vertical-align: top;\n",
       "    }\n",
       "\n",
       "    .dataframe thead th {\n",
       "        text-align: right;\n",
       "    }\n",
       "</style>\n",
       "<table border=\"1\" class=\"dataframe\">\n",
       "  <thead>\n",
       "    <tr style=\"text-align: right;\">\n",
       "      <th></th>\n",
       "      <th>PID</th>\n",
       "      <th>College</th>\n",
       "      <th>Level</th>\n",
       "      <th>lab01</th>\n",
       "      <th>lab01 - Max Points</th>\n",
       "      <th>lab01 - Lateness (H:M:S)</th>\n",
       "      <th>lab02</th>\n",
       "      <th>lab02 - Max Points</th>\n",
       "      <th>lab02 - Lateness (H:M:S)</th>\n",
       "      <th>project01</th>\n",
       "      <th>...</th>\n",
       "      <th>discussion07 - Lateness (H:M:S)</th>\n",
       "      <th>discussion08</th>\n",
       "      <th>discussion08 - Max Points</th>\n",
       "      <th>discussion08 - Lateness (H:M:S)</th>\n",
       "      <th>discussion09</th>\n",
       "      <th>discussion09 - Max Points</th>\n",
       "      <th>discussion09 - Lateness (H:M:S)</th>\n",
       "      <th>discussion10</th>\n",
       "      <th>discussion10 - Max Points</th>\n",
       "      <th>discussion10 - Lateness (H:M:S)</th>\n",
       "    </tr>\n",
       "  </thead>\n",
       "  <tbody>\n",
       "    <tr>\n",
       "      <th>0</th>\n",
       "      <td>A14721419</td>\n",
       "      <td>SI</td>\n",
       "      <td>JR</td>\n",
       "      <td>99.735279</td>\n",
       "      <td>100.0</td>\n",
       "      <td>00:00:00</td>\n",
       "      <td>84.990171</td>\n",
       "      <td>100.0</td>\n",
       "      <td>00:00:00</td>\n",
       "      <td>75.282632</td>\n",
       "      <td>...</td>\n",
       "      <td>00:00:00</td>\n",
       "      <td>8.895294</td>\n",
       "      <td>10</td>\n",
       "      <td>00:00:00</td>\n",
       "      <td>10.000000</td>\n",
       "      <td>10</td>\n",
       "      <td>780:01:28</td>\n",
       "      <td>10.000000</td>\n",
       "      <td>10</td>\n",
       "      <td>00:00:00</td>\n",
       "    </tr>\n",
       "    <tr>\n",
       "      <th>1</th>\n",
       "      <td>A14883274</td>\n",
       "      <td>TH</td>\n",
       "      <td>JR</td>\n",
       "      <td>98.829476</td>\n",
       "      <td>100.0</td>\n",
       "      <td>00:00:00</td>\n",
       "      <td>50.784231</td>\n",
       "      <td>100.0</td>\n",
       "      <td>00:00:00</td>\n",
       "      <td>52.929482</td>\n",
       "      <td>...</td>\n",
       "      <td>669:12:21</td>\n",
       "      <td>9.022407</td>\n",
       "      <td>10</td>\n",
       "      <td>00:00:00</td>\n",
       "      <td>9.020283</td>\n",
       "      <td>10</td>\n",
       "      <td>00:00:00</td>\n",
       "      <td>9.437368</td>\n",
       "      <td>10</td>\n",
       "      <td>00:00:00</td>\n",
       "    </tr>\n",
       "    <tr>\n",
       "      <th>2</th>\n",
       "      <td>A14164800</td>\n",
       "      <td>SI</td>\n",
       "      <td>SR</td>\n",
       "      <td>86.513369</td>\n",
       "      <td>100.0</td>\n",
       "      <td>00:00:00</td>\n",
       "      <td>47.802820</td>\n",
       "      <td>100.0</td>\n",
       "      <td>00:00:00</td>\n",
       "      <td>46.122801</td>\n",
       "      <td>...</td>\n",
       "      <td>00:00:00</td>\n",
       "      <td>3.030538</td>\n",
       "      <td>10</td>\n",
       "      <td>00:04:51</td>\n",
       "      <td>7.613698</td>\n",
       "      <td>10</td>\n",
       "      <td>00:00:00</td>\n",
       "      <td>9.624617</td>\n",
       "      <td>10</td>\n",
       "      <td>00:00:00</td>\n",
       "    </tr>\n",
       "    <tr>\n",
       "      <th>3</th>\n",
       "      <td>A14847419</td>\n",
       "      <td>TH</td>\n",
       "      <td>JR</td>\n",
       "      <td>100.000000</td>\n",
       "      <td>100.0</td>\n",
       "      <td>00:00:00</td>\n",
       "      <td>100.000000</td>\n",
       "      <td>100.0</td>\n",
       "      <td>00:00:00</td>\n",
       "      <td>79.121806</td>\n",
       "      <td>...</td>\n",
       "      <td>00:00:00</td>\n",
       "      <td>10.000000</td>\n",
       "      <td>10</td>\n",
       "      <td>00:00:00</td>\n",
       "      <td>9.249126</td>\n",
       "      <td>10</td>\n",
       "      <td>00:00:00</td>\n",
       "      <td>10.000000</td>\n",
       "      <td>10</td>\n",
       "      <td>00:00:00</td>\n",
       "    </tr>\n",
       "    <tr>\n",
       "      <th>4</th>\n",
       "      <td>A14162943</td>\n",
       "      <td>SI</td>\n",
       "      <td>JR</td>\n",
       "      <td>66.506974</td>\n",
       "      <td>100.0</td>\n",
       "      <td>00:00:00</td>\n",
       "      <td>33.422412</td>\n",
       "      <td>100.0</td>\n",
       "      <td>00:00:00</td>\n",
       "      <td>41.823703</td>\n",
       "      <td>...</td>\n",
       "      <td>00:00:00</td>\n",
       "      <td>4.439606</td>\n",
       "      <td>10</td>\n",
       "      <td>00:00:00</td>\n",
       "      <td>4.485291</td>\n",
       "      <td>10</td>\n",
       "      <td>00:00:00</td>\n",
       "      <td>6.282712</td>\n",
       "      <td>10</td>\n",
       "      <td>00:00:00</td>\n",
       "    </tr>\n",
       "  </tbody>\n",
       "</table>\n",
       "<p>5 rows × 100 columns</p>\n",
       "</div>"
      ],
      "text/plain": [
       "         PID College Level       lab01  lab01 - Max Points  \\\n",
       "0  A14721419      SI    JR   99.735279               100.0   \n",
       "1  A14883274      TH    JR   98.829476               100.0   \n",
       "2  A14164800      SI    SR   86.513369               100.0   \n",
       "3  A14847419      TH    JR  100.000000               100.0   \n",
       "4  A14162943      SI    JR   66.506974               100.0   \n",
       "\n",
       "  lab01 - Lateness (H:M:S)       lab02  lab02 - Max Points  \\\n",
       "0                 00:00:00   84.990171               100.0   \n",
       "1                 00:00:00   50.784231               100.0   \n",
       "2                 00:00:00   47.802820               100.0   \n",
       "3                 00:00:00  100.000000               100.0   \n",
       "4                 00:00:00   33.422412               100.0   \n",
       "\n",
       "  lab02 - Lateness (H:M:S)  project01  ...  discussion07 - Lateness (H:M:S)  \\\n",
       "0                 00:00:00  75.282632  ...                         00:00:00   \n",
       "1                 00:00:00  52.929482  ...                        669:12:21   \n",
       "2                 00:00:00  46.122801  ...                         00:00:00   \n",
       "3                 00:00:00  79.121806  ...                         00:00:00   \n",
       "4                 00:00:00  41.823703  ...                         00:00:00   \n",
       "\n",
       "  discussion08  discussion08 - Max Points  discussion08 - Lateness (H:M:S)  \\\n",
       "0     8.895294                         10                         00:00:00   \n",
       "1     9.022407                         10                         00:00:00   \n",
       "2     3.030538                         10                         00:04:51   \n",
       "3    10.000000                         10                         00:00:00   \n",
       "4     4.439606                         10                         00:00:00   \n",
       "\n",
       "  discussion09  discussion09 - Max Points  discussion09 - Lateness (H:M:S)  \\\n",
       "0    10.000000                         10                        780:01:28   \n",
       "1     9.020283                         10                         00:00:00   \n",
       "2     7.613698                         10                         00:00:00   \n",
       "3     9.249126                         10                         00:00:00   \n",
       "4     4.485291                         10                         00:00:00   \n",
       "\n",
       "  discussion10  discussion10 - Max Points  discussion10 - Lateness (H:M:S)  \n",
       "0    10.000000                         10                         00:00:00  \n",
       "1     9.437368                         10                         00:00:00  \n",
       "2     9.624617                         10                         00:00:00  \n",
       "3    10.000000                         10                         00:00:00  \n",
       "4     6.282712                         10                         00:00:00  \n",
       "\n",
       "[5 rows x 100 columns]"
      ]
     },
     "execution_count": 5,
     "metadata": {},
     "output_type": "execute_result"
    }
   ],
   "source": [
    "grades.head()"
   ]
  },
  {
   "cell_type": "code",
   "execution_count": 29,
   "metadata": {},
   "outputs": [
    {
     "data": {
      "text/plain": [
       "True"
      ]
     },
     "execution_count": 29,
     "metadata": {},
     "output_type": "execute_result"
    }
   ],
   "source": [
    "grades_fp = os.path.join('data', 'grades.csv')\n",
    "grades = pd.read_csv(grades_fp)\n",
    "names = proj.get_assignment_names(grades)\n",
    "set(names.keys()) == {'lab', 'project', 'midterm', 'final', 'disc', 'checkpoint'}\n",
    "#    True\n",
    "names['final'] == ['Final']\n",
    " #   True\n",
    "'project02' in names['project']\n",
    " #   True"
   ]
  },
  {
   "cell_type": "code",
   "execution_count": null,
   "metadata": {},
   "outputs": [],
   "source": []
  },
  {
   "cell_type": "markdown",
   "metadata": {},
   "source": [
    "### Computing project grades\n",
    "\n",
    "**Question 2**\n",
    "\n",
    "Compute the total score for the project portion of the course according to the syllabus. Create a function `projects_total` that takes in `grades` and computes the total project grade for the quarter according to the syllabus. The output Series should contain values between 0 and 1.\n",
    "\n",
    "*Note*: Don't forget to properly handle students who didn't turn in assignments! (Use your experience and common sense).\n",
    "\n",
    "*Note:* To check your work, try (1) calculating the score for a few types of students by hand, and (2) calculate the statistics for the class performance on each individual course project, making sure they look reasonable."
   ]
  },
  {
   "cell_type": "code",
   "execution_count": 66,
   "metadata": {},
   "outputs": [
    {
     "data": {
      "text/plain": [
       "True"
      ]
     },
     "execution_count": 66,
     "metadata": {},
     "output_type": "execute_result"
    }
   ],
   "source": [
    "grades_fp = os.path.join('data', 'grades.csv')\n",
    "grades = pd.read_csv(grades_fp)\n",
    "out = proj.projects_total(grades)\n",
    "np.all((0 <= out) & (out <= 1))\n",
    "  #  True\n",
    "0.7 < out.mean() < 0.9\n",
    " #   True\n"
   ]
  },
  {
   "cell_type": "code",
   "execution_count": null,
   "metadata": {},
   "outputs": [],
   "source": []
  },
  {
   "cell_type": "code",
   "execution_count": null,
   "metadata": {},
   "outputs": [],
   "source": []
  },
  {
   "cell_type": "markdown",
   "metadata": {},
   "source": [
    "### Computing lab grades\n",
    "\n",
    "Now, you will clean and process the lab grades, which is a little more complicated. To do this, you will develop functions that:\n",
    "- 'normalize' the grades, \n",
    "- adjust for late submissions, \n",
    "- drop the lowest lab grade, and \n",
    "- creates a total lab score for each student."
   ]
  },
  {
   "cell_type": "markdown",
   "metadata": {},
   "source": [
    "**Question 3**\n",
    "\n",
    "Unfortunately, Gradescope sometimes experiences a delay in registering when an assignment is submitted during \"periods of heavy usage\" (i.e. near a submission deadline). You need to assess when a student's assignment was actually turned in on time, even if Gradescope did not process it in time. To do this, it is helpful to know:\n",
    "* Every late submission has to be submitted by a TA (late submissions are turned off).\n",
    "* TAs never submitted a late assignment \"just after\" the deadline. \n",
    "* The deadlines were at midnight and students had to come to staff hours to late-submit their assignment.\n",
    "\n",
    "Create a function `last_minute_submissions` that takes in the dataframe `grades` and outputs the number of submissions on each assignment that were turned in on time by the student, yet marked 'late' by Gradescope. See the doctest for more details.\n",
    "\n",
    "*Note:* You have to figure out what truly is a late submission by looking at the data and understanding the facts about the data generating process above. There is some ambiguity in finding which submissions are truly late; you will *make a best guess for a threshold* by looking at this dataset. This question is about 'cleaning' a messy 'data recording process'."
   ]
  },
  {
   "cell_type": "code",
   "execution_count": 125,
   "metadata": {},
   "outputs": [
    {
     "data": {
      "text/plain": [
       "True"
      ]
     },
     "execution_count": 125,
     "metadata": {},
     "output_type": "execute_result"
    }
   ],
   "source": [
    "fp = os.path.join('data', 'grades.csv')\n",
    "grades = pd.read_csv(fp)\n",
    "out = proj.last_minute_submissions(grades)\n",
    "isinstance(out, pd.Series)\n",
    "#    True\n",
    "#np.all(out.index == ['lab0%d' % d for d in range(1,10)])\n",
    "#    True\n",
    "#(out > 0).sum()\n",
    " #   8\n",
    "    \n",
    "\n"
   ]
  },
  {
   "cell_type": "markdown",
   "metadata": {},
   "source": [
    "**Question 4**\n",
    "\n",
    "Now you need to adjust the lab grades for late submissions -- however, you need to take into account your investigation in the previous question, since students shouldn't be penalized by a bug in Gradescope!\n",
    "\n",
    "Create a function `lateness_penalty` that takes in a 'Lateness' column and returns a column of penalties (represented by the values `1.0,0.9,0.7,0.4` according to the syllabus). Only *truly* late submissions should be counted as late.\n",
    "\n",
    "*Note*: For the purpose of this project, we will only be calculating lateness for labs. There is no penalty for lateness for projects, discussions, nor checkpoints."
   ]
  },
  {
   "cell_type": "code",
   "execution_count": 127,
   "metadata": {},
   "outputs": [
    {
     "data": {
      "text/plain": [
       "0      00:00:00\n",
       "1      00:00:00\n",
       "2      00:00:00\n",
       "3      00:00:00\n",
       "4      00:00:00\n",
       "         ...   \n",
       "530    00:00:00\n",
       "531    00:00:00\n",
       "532    00:00:00\n",
       "533    00:00:00\n",
       "534    00:00:00\n",
       "Name: lab02 - Lateness (H:M:S), Length: 535, dtype: object"
      ]
     },
     "execution_count": 127,
     "metadata": {},
     "output_type": "execute_result"
    }
   ],
   "source": [
    "col = grades['lab02 - Lateness (H:M:S)']\n",
    "col"
   ]
  },
  {
   "cell_type": "code",
   "execution_count": 157,
   "metadata": {},
   "outputs": [
    {
     "data": {
      "text/plain": [
       "200    1.0\n",
       "201    1.0\n",
       "202    1.0\n",
       "203    1.0\n",
       "204    1.0\n",
       "205    1.0\n",
       "206    1.0\n",
       "207    1.0\n",
       "208    1.0\n",
       "209    0.9\n",
       "210    1.0\n",
       "211    1.0\n",
       "212    1.0\n",
       "213    1.0\n",
       "214    1.0\n",
       "215    1.0\n",
       "216    1.0\n",
       "217    1.0\n",
       "218    1.0\n",
       "219    1.0\n",
       "220    1.0\n",
       "221    1.0\n",
       "222    1.0\n",
       "223    1.0\n",
       "224    1.0\n",
       "225    1.0\n",
       "226    1.0\n",
       "227    0.9\n",
       "228    1.0\n",
       "229    1.0\n",
       "230    1.0\n",
       "231    0.9\n",
       "232    1.0\n",
       "233    1.0\n",
       "234    1.0\n",
       "235    1.0\n",
       "236    1.0\n",
       "237    1.0\n",
       "238    1.0\n",
       "239    1.0\n",
       "240    1.0\n",
       "241    1.0\n",
       "242    1.0\n",
       "243    1.0\n",
       "244    1.0\n",
       "245    1.0\n",
       "246    1.0\n",
       "247    1.0\n",
       "248    1.0\n",
       "249    0.9\n",
       "Name: lab01 - Lateness (H:M:S), dtype: float64"
      ]
     },
     "execution_count": 157,
     "metadata": {},
     "output_type": "execute_result"
    }
   ],
   "source": [
    "fp = os.path.join('data', 'grades.csv')\n",
    "col = pd.read_csv(fp)['lab01 - Lateness (H:M:S)']\n",
    "out = proj.lateness_penalty(col)\n",
    "isinstance(out, pd.Series)\n",
    "#    True\n",
    "set(out.unique()) <= {1.0, 0.9, 0.7, 0.4}\n",
    " #   True\n",
    "out[200:250]"
   ]
  },
  {
   "cell_type": "code",
   "execution_count": null,
   "metadata": {},
   "outputs": [],
   "source": []
  },
  {
   "cell_type": "code",
   "execution_count": 179,
   "metadata": {},
   "outputs": [
    {
     "data": {
      "text/html": [
       "<div>\n",
       "<style scoped>\n",
       "    .dataframe tbody tr th:only-of-type {\n",
       "        vertical-align: middle;\n",
       "    }\n",
       "\n",
       "    .dataframe tbody tr th {\n",
       "        vertical-align: top;\n",
       "    }\n",
       "\n",
       "    .dataframe thead th {\n",
       "        text-align: right;\n",
       "    }\n",
       "</style>\n",
       "<table border=\"1\" class=\"dataframe\">\n",
       "  <thead>\n",
       "    <tr style=\"text-align: right;\">\n",
       "      <th></th>\n",
       "      <th>PID</th>\n",
       "      <th>College</th>\n",
       "      <th>Level</th>\n",
       "      <th>lab01</th>\n",
       "      <th>lab01 - Max Points</th>\n",
       "      <th>lab01 - Lateness (H:M:S)</th>\n",
       "      <th>lab02</th>\n",
       "      <th>lab02 - Max Points</th>\n",
       "      <th>lab02 - Lateness (H:M:S)</th>\n",
       "      <th>project01</th>\n",
       "      <th>...</th>\n",
       "      <th>discussion07 - Lateness (H:M:S)</th>\n",
       "      <th>discussion08</th>\n",
       "      <th>discussion08 - Max Points</th>\n",
       "      <th>discussion08 - Lateness (H:M:S)</th>\n",
       "      <th>discussion09</th>\n",
       "      <th>discussion09 - Max Points</th>\n",
       "      <th>discussion09 - Lateness (H:M:S)</th>\n",
       "      <th>discussion10</th>\n",
       "      <th>discussion10 - Max Points</th>\n",
       "      <th>discussion10 - Lateness (H:M:S)</th>\n",
       "    </tr>\n",
       "  </thead>\n",
       "  <tbody>\n",
       "    <tr>\n",
       "      <th>0</th>\n",
       "      <td>A14721419</td>\n",
       "      <td>SI</td>\n",
       "      <td>JR</td>\n",
       "      <td>99.735279</td>\n",
       "      <td>100.0</td>\n",
       "      <td>00:00:00</td>\n",
       "      <td>84.990171</td>\n",
       "      <td>100.0</td>\n",
       "      <td>00:00:00</td>\n",
       "      <td>75.282632</td>\n",
       "      <td>...</td>\n",
       "      <td>00:00:00</td>\n",
       "      <td>8.895294</td>\n",
       "      <td>10</td>\n",
       "      <td>00:00:00</td>\n",
       "      <td>10.000000</td>\n",
       "      <td>10</td>\n",
       "      <td>780:01:28</td>\n",
       "      <td>10.000000</td>\n",
       "      <td>10</td>\n",
       "      <td>00:00:00</td>\n",
       "    </tr>\n",
       "    <tr>\n",
       "      <th>1</th>\n",
       "      <td>A14883274</td>\n",
       "      <td>TH</td>\n",
       "      <td>JR</td>\n",
       "      <td>98.829476</td>\n",
       "      <td>100.0</td>\n",
       "      <td>00:00:00</td>\n",
       "      <td>50.784231</td>\n",
       "      <td>100.0</td>\n",
       "      <td>00:00:00</td>\n",
       "      <td>52.929482</td>\n",
       "      <td>...</td>\n",
       "      <td>669:12:21</td>\n",
       "      <td>9.022407</td>\n",
       "      <td>10</td>\n",
       "      <td>00:00:00</td>\n",
       "      <td>9.020283</td>\n",
       "      <td>10</td>\n",
       "      <td>00:00:00</td>\n",
       "      <td>9.437368</td>\n",
       "      <td>10</td>\n",
       "      <td>00:00:00</td>\n",
       "    </tr>\n",
       "    <tr>\n",
       "      <th>2</th>\n",
       "      <td>A14164800</td>\n",
       "      <td>SI</td>\n",
       "      <td>SR</td>\n",
       "      <td>86.513369</td>\n",
       "      <td>100.0</td>\n",
       "      <td>00:00:00</td>\n",
       "      <td>47.802820</td>\n",
       "      <td>100.0</td>\n",
       "      <td>00:00:00</td>\n",
       "      <td>46.122801</td>\n",
       "      <td>...</td>\n",
       "      <td>00:00:00</td>\n",
       "      <td>3.030538</td>\n",
       "      <td>10</td>\n",
       "      <td>00:04:51</td>\n",
       "      <td>7.613698</td>\n",
       "      <td>10</td>\n",
       "      <td>00:00:00</td>\n",
       "      <td>9.624617</td>\n",
       "      <td>10</td>\n",
       "      <td>00:00:00</td>\n",
       "    </tr>\n",
       "    <tr>\n",
       "      <th>3</th>\n",
       "      <td>A14847419</td>\n",
       "      <td>TH</td>\n",
       "      <td>JR</td>\n",
       "      <td>100.000000</td>\n",
       "      <td>100.0</td>\n",
       "      <td>00:00:00</td>\n",
       "      <td>100.000000</td>\n",
       "      <td>100.0</td>\n",
       "      <td>00:00:00</td>\n",
       "      <td>79.121806</td>\n",
       "      <td>...</td>\n",
       "      <td>00:00:00</td>\n",
       "      <td>10.000000</td>\n",
       "      <td>10</td>\n",
       "      <td>00:00:00</td>\n",
       "      <td>9.249126</td>\n",
       "      <td>10</td>\n",
       "      <td>00:00:00</td>\n",
       "      <td>10.000000</td>\n",
       "      <td>10</td>\n",
       "      <td>00:00:00</td>\n",
       "    </tr>\n",
       "    <tr>\n",
       "      <th>4</th>\n",
       "      <td>A14162943</td>\n",
       "      <td>SI</td>\n",
       "      <td>JR</td>\n",
       "      <td>66.506974</td>\n",
       "      <td>100.0</td>\n",
       "      <td>00:00:00</td>\n",
       "      <td>33.422412</td>\n",
       "      <td>100.0</td>\n",
       "      <td>00:00:00</td>\n",
       "      <td>41.823703</td>\n",
       "      <td>...</td>\n",
       "      <td>00:00:00</td>\n",
       "      <td>4.439606</td>\n",
       "      <td>10</td>\n",
       "      <td>00:00:00</td>\n",
       "      <td>4.485291</td>\n",
       "      <td>10</td>\n",
       "      <td>00:00:00</td>\n",
       "      <td>6.282712</td>\n",
       "      <td>10</td>\n",
       "      <td>00:00:00</td>\n",
       "    </tr>\n",
       "  </tbody>\n",
       "</table>\n",
       "<p>5 rows × 100 columns</p>\n",
       "</div>"
      ],
      "text/plain": [
       "         PID College Level       lab01  lab01 - Max Points  \\\n",
       "0  A14721419      SI    JR   99.735279               100.0   \n",
       "1  A14883274      TH    JR   98.829476               100.0   \n",
       "2  A14164800      SI    SR   86.513369               100.0   \n",
       "3  A14847419      TH    JR  100.000000               100.0   \n",
       "4  A14162943      SI    JR   66.506974               100.0   \n",
       "\n",
       "  lab01 - Lateness (H:M:S)       lab02  lab02 - Max Points  \\\n",
       "0                 00:00:00   84.990171               100.0   \n",
       "1                 00:00:00   50.784231               100.0   \n",
       "2                 00:00:00   47.802820               100.0   \n",
       "3                 00:00:00  100.000000               100.0   \n",
       "4                 00:00:00   33.422412               100.0   \n",
       "\n",
       "  lab02 - Lateness (H:M:S)  project01  ...  discussion07 - Lateness (H:M:S)  \\\n",
       "0                 00:00:00  75.282632  ...                         00:00:00   \n",
       "1                 00:00:00  52.929482  ...                        669:12:21   \n",
       "2                 00:00:00  46.122801  ...                         00:00:00   \n",
       "3                 00:00:00  79.121806  ...                         00:00:00   \n",
       "4                 00:00:00  41.823703  ...                         00:00:00   \n",
       "\n",
       "  discussion08  discussion08 - Max Points  discussion08 - Lateness (H:M:S)  \\\n",
       "0     8.895294                         10                         00:00:00   \n",
       "1     9.022407                         10                         00:00:00   \n",
       "2     3.030538                         10                         00:04:51   \n",
       "3    10.000000                         10                         00:00:00   \n",
       "4     4.439606                         10                         00:00:00   \n",
       "\n",
       "  discussion09  discussion09 - Max Points  discussion09 - Lateness (H:M:S)  \\\n",
       "0    10.000000                         10                        780:01:28   \n",
       "1     9.020283                         10                         00:00:00   \n",
       "2     7.613698                         10                         00:00:00   \n",
       "3     9.249126                         10                         00:00:00   \n",
       "4     4.485291                         10                         00:00:00   \n",
       "\n",
       "  discussion10  discussion10 - Max Points  discussion10 - Lateness (H:M:S)  \n",
       "0    10.000000                         10                         00:00:00  \n",
       "1     9.437368                         10                         00:00:00  \n",
       "2     9.624617                         10                         00:00:00  \n",
       "3    10.000000                         10                         00:00:00  \n",
       "4     6.282712                         10                         00:00:00  \n",
       "\n",
       "[5 rows x 100 columns]"
      ]
     },
     "execution_count": 179,
     "metadata": {},
     "output_type": "execute_result"
    }
   ],
   "source": [
    "fp = os.path.join('data', 'grades.csv')\n",
    "grades = pd.read_csv(fp)\n",
    "grades.head()"
   ]
  },
  {
   "cell_type": "code",
   "execution_count": 184,
   "metadata": {},
   "outputs": [
    {
     "data": {
      "text/plain": [
       "True"
      ]
     },
     "execution_count": 184,
     "metadata": {},
     "output_type": "execute_result"
    }
   ],
   "source": [
    "fp = os.path.join('data', 'grades.csv')\n",
    "grades = pd.read_csv(fp)\n",
    "out = proj.process_labs(grades)\n",
    "out.columns.tolist() == ['lab%02d' % x for x in range(1,10)]\n",
    "#    True\n",
    "np.all((0.65 <= out.mean()) & (out.mean() <= 0.90))\n",
    "#    True"
   ]
  },
  {
   "cell_type": "code",
   "execution_count": null,
   "metadata": {},
   "outputs": [],
   "source": []
  },
  {
   "cell_type": "markdown",
   "metadata": {},
   "source": [
    "**Question 6**\n",
    "\n",
    "Create a function `lab_total` that takes in dataframe of processed assignments (like the output of Question 5) and computes the total lab grade for each student according to the syllabus (returning a Series). Your answers should be proportions between 0 and 1. For example, if there are only 3 labs, and a student received scores of {80%,90%,100%}, then the total score would be 0.95.\n",
    "\n",
    "*Note*: Don't forget to properly handle students who didn't turn in assignments! (Use your experience and common sense)."
   ]
  },
  {
   "cell_type": "code",
   "execution_count": 186,
   "metadata": {},
   "outputs": [
    {
     "data": {
      "text/html": [
       "<div>\n",
       "<style scoped>\n",
       "    .dataframe tbody tr th:only-of-type {\n",
       "        vertical-align: middle;\n",
       "    }\n",
       "\n",
       "    .dataframe tbody tr th {\n",
       "        vertical-align: top;\n",
       "    }\n",
       "\n",
       "    .dataframe thead th {\n",
       "        text-align: right;\n",
       "    }\n",
       "</style>\n",
       "<table border=\"1\" class=\"dataframe\">\n",
       "  <thead>\n",
       "    <tr style=\"text-align: right;\">\n",
       "      <th></th>\n",
       "      <th>lab01</th>\n",
       "      <th>lab02</th>\n",
       "      <th>lab03</th>\n",
       "      <th>lab04</th>\n",
       "      <th>lab05</th>\n",
       "      <th>lab06</th>\n",
       "      <th>lab07</th>\n",
       "      <th>lab08</th>\n",
       "      <th>lab09</th>\n",
       "    </tr>\n",
       "  </thead>\n",
       "  <tbody>\n",
       "    <tr>\n",
       "      <th>0</th>\n",
       "      <td>0.997353</td>\n",
       "      <td>0.849902</td>\n",
       "      <td>0.637744</td>\n",
       "      <td>1.000000</td>\n",
       "      <td>1.000000</td>\n",
       "      <td>0.994518</td>\n",
       "      <td>0.389141</td>\n",
       "      <td>0.887917</td>\n",
       "      <td>0.874913</td>\n",
       "    </tr>\n",
       "    <tr>\n",
       "      <th>1</th>\n",
       "      <td>0.988295</td>\n",
       "      <td>0.507842</td>\n",
       "      <td>0.714477</td>\n",
       "      <td>0.783672</td>\n",
       "      <td>1.000000</td>\n",
       "      <td>0.393887</td>\n",
       "      <td>0.914061</td>\n",
       "      <td>0.944378</td>\n",
       "      <td>0.902977</td>\n",
       "    </tr>\n",
       "    <tr>\n",
       "      <th>2</th>\n",
       "      <td>0.865134</td>\n",
       "      <td>0.478028</td>\n",
       "      <td>0.433667</td>\n",
       "      <td>0.738875</td>\n",
       "      <td>0.927838</td>\n",
       "      <td>0.345076</td>\n",
       "      <td>0.734070</td>\n",
       "      <td>0.718204</td>\n",
       "      <td>0.757840</td>\n",
       "    </tr>\n",
       "    <tr>\n",
       "      <th>3</th>\n",
       "      <td>1.000000</td>\n",
       "      <td>1.000000</td>\n",
       "      <td>0.925903</td>\n",
       "      <td>0.950614</td>\n",
       "      <td>0.891614</td>\n",
       "      <td>0.688403</td>\n",
       "      <td>0.985371</td>\n",
       "      <td>0.963307</td>\n",
       "      <td>0.777880</td>\n",
       "    </tr>\n",
       "    <tr>\n",
       "      <th>4</th>\n",
       "      <td>0.665070</td>\n",
       "      <td>0.334224</td>\n",
       "      <td>0.706932</td>\n",
       "      <td>0.747915</td>\n",
       "      <td>0.659720</td>\n",
       "      <td>0.731345</td>\n",
       "      <td>0.607859</td>\n",
       "      <td>0.370186</td>\n",
       "      <td>1.000000</td>\n",
       "    </tr>\n",
       "  </tbody>\n",
       "</table>\n",
       "</div>"
      ],
      "text/plain": [
       "      lab01     lab02     lab03     lab04     lab05     lab06     lab07  \\\n",
       "0  0.997353  0.849902  0.637744  1.000000  1.000000  0.994518  0.389141   \n",
       "1  0.988295  0.507842  0.714477  0.783672  1.000000  0.393887  0.914061   \n",
       "2  0.865134  0.478028  0.433667  0.738875  0.927838  0.345076  0.734070   \n",
       "3  1.000000  1.000000  0.925903  0.950614  0.891614  0.688403  0.985371   \n",
       "4  0.665070  0.334224  0.706932  0.747915  0.659720  0.731345  0.607859   \n",
       "\n",
       "      lab08     lab09  \n",
       "0  0.887917  0.874913  \n",
       "1  0.944378  0.902977  \n",
       "2  0.718204  0.757840  \n",
       "3  0.963307  0.777880  \n",
       "4  0.370186  1.000000  "
      ]
     },
     "execution_count": 186,
     "metadata": {},
     "output_type": "execute_result"
    }
   ],
   "source": [
    "out.head()"
   ]
  },
  {
   "cell_type": "code",
   "execution_count": 196,
   "metadata": {},
   "outputs": [
    {
     "data": {
      "text/plain": [
       "True"
      ]
     },
     "execution_count": 196,
     "metadata": {},
     "output_type": "execute_result"
    }
   ],
   "source": [
    "cols = 'lab01 lab02 lab03'.split()\n",
    "processed = pd.DataFrame([[0.2, 0.90, 1.0]], index=[0], columns=cols)\n",
    "np.isclose(proj.lab_total(processed), 0.95).all()\n"
   ]
  },
  {
   "cell_type": "markdown",
   "metadata": {},
   "source": [
    "### Putting it together\n",
    "\n",
    "**Question 7**\n",
    "\n",
    "Finally, you need to create the final course grades. To do this, you will add up the total of each course component according to the weights given in the syllabus. \n",
    "\n",
    "* Create a function `total_points` that takes in `grades` and returns the final course grades according to the syllabus. Course grades should be proportions between zero and one.\n",
    "* Create a function `final_grades` that takes in the final course grades as above and returns a Series of letter grades given by the standard cutoffs (`A >= .90`, `.90 > B >= .80`, `.80 > C >= .70`, `.70 > D >= .60`, `.60 > F`). You should not use rounding to determining the letter grades.\n",
    "* Create a function `letter_proportions` which takes in the dataframe `grades` and outputs a Series that contains the proportion of the class that received each grade. (This question requires you to put everything together).\n",
    "* The indices should be ordered by the proportion of the class that receives that grade, from largest to smallest.\n",
    "\n",
    "*Note 1*: Don't repeat yourself when computing the checkpoint and discussion portions of the course.\n",
    "\n",
    "*Note 2*: Only the lab portion of the course accounts for late assignments; you may assume all assignments in other portions are turned in without penalty.\n",
    "\n",
    "*Note 3*: These values should add up to exactly 1.0. If you are getting something close such as 0.99999, that means there is a slight issue with your code from above. \n",
    "\n",
    "To check your work, verify the course grade distribution and relevant statistics! Do the work by hand for a few students."
   ]
  },
  {
   "cell_type": "code",
   "execution_count": 392,
   "metadata": {},
   "outputs": [
    {
     "data": {
      "text/plain": [
       "True"
      ]
     },
     "execution_count": 392,
     "metadata": {},
     "output_type": "execute_result"
    }
   ],
   "source": [
    "fp = os.path.join('data', 'grades.csv')\n",
    "grades = pd.read_csv(fp)\n",
    "out = proj.process_labs(grades)\n",
    "out.columns.tolist() == ['lab%02d' % x for x in range(1,10)]\n",
    "\n",
    "np.all((0.65 <= out.mean()) & (out.mean() <= 0.90))\n"
   ]
  },
  {
   "cell_type": "code",
   "execution_count": 395,
   "metadata": {},
   "outputs": [
    {
     "data": {
      "text/plain": [
       "0      0.902567\n",
       "1      0.818246\n",
       "2      0.761675\n",
       "3      0.907636\n",
       "4      0.677361\n",
       "         ...   \n",
       "530    0.865507\n",
       "531    0.764130\n",
       "532    0.861005\n",
       "533    0.868383\n",
       "534    0.893762\n",
       "Length: 535, dtype: float64"
      ]
     },
     "execution_count": 395,
     "metadata": {},
     "output_type": "execute_result"
    }
   ],
   "source": [
    "fp = os.path.join('data', 'grades.csv')\n",
    "grades = pd.read_csv(fp)\n",
    "out = proj.total_points(grades)\n",
    "np.all((0 <= out) & (out <= 1))\n",
    "#    True\n",
    "0.7 < out.mean() < 0.9\n",
    "#    True\n",
    "out"
   ]
  },
  {
   "cell_type": "code",
   "execution_count": 284,
   "metadata": {},
   "outputs": [
    {
     "data": {
      "text/plain": [
       "True"
      ]
     },
     "execution_count": 284,
     "metadata": {},
     "output_type": "execute_result"
    }
   ],
   "source": [
    "out = proj.final_grades(pd.Series([0.92, 0.81, 0.41]))\n",
    "np.all(out == ['A', 'B', 'F'])"
   ]
  },
  {
   "cell_type": "code",
   "execution_count": 288,
   "metadata": {},
   "outputs": [
    {
     "data": {
      "text/plain": [
       "0      A\n",
       "1      B\n",
       "2      C\n",
       "3      A\n",
       "4      D\n",
       "      ..\n",
       "530    B\n",
       "531    C\n",
       "532    B\n",
       "533    B\n",
       "534    B\n",
       "Length: 535, dtype: object"
      ]
     },
     "execution_count": 288,
     "metadata": {},
     "output_type": "execute_result"
    }
   ],
   "source": [
    "z = out.apply(help_func)\n",
    "z"
   ]
  },
  {
   "cell_type": "code",
   "execution_count": 394,
   "metadata": {},
   "outputs": [
    {
     "data": {
      "text/plain": [
       "True"
      ]
     },
     "execution_count": 394,
     "metadata": {},
     "output_type": "execute_result"
    }
   ],
   "source": [
    "fp = os.path.join('data', 'grades.csv')\n",
    "grades = pd.read_csv(fp)\n",
    "out = proj.letter_proportions(grades)\n",
    "np.all(out.index == ['B', 'C', 'A', 'D', 'F'])\n",
    "#    True\n",
    "out.sum() == 1.0"
   ]
  },
  {
   "cell_type": "markdown",
   "metadata": {},
   "source": [
    "### Do Seniors get worse grades?\n",
    "\n",
    "**Question 8**\n",
    "\n",
    "You notice that students who are seniors on average did worse in the class (if you can't verify this, you should go back and check your work!). Is this difference significant, or just due to noise?\n",
    "\n",
    "Perform a hypothesis test, assessing the likelihood of the above statement under the null hypothesis: \n",
    "> \"seniors earn grades that are roughly equal on average to the rest of the class.\"\n",
    "\n",
    "\n",
    "Create a function `simulate_pval` which takes in the number of simulations `N` and `grades` and returns the the likelihood that the grade of seniors was worse than the average of the class as a whole under the null hypothesis(i.e. calculate the p-value).\n",
    "\n",
    "*Note:* To check your work, plot the sampling distribution and the observation. Do these values look reasonable?"
   ]
  },
  {
   "cell_type": "code",
   "execution_count": 393,
   "metadata": {},
   "outputs": [
    {
     "data": {
      "text/plain": [
       "0.001"
      ]
     },
     "execution_count": 393,
     "metadata": {},
     "output_type": "execute_result"
    }
   ],
   "source": [
    "fp = os.path.join('data', 'grades.csv')\n",
    "grades = pd.read_csv(fp)\n",
    "out = proj.simulate_pval(grades, 100)\n",
    "0 <= out <= 0.1\n",
    "#    True\n",
    "out"
   ]
  },
  {
   "cell_type": "code",
   "execution_count": 330,
   "metadata": {},
   "outputs": [
    {
     "data": {
      "text/plain": [
       "0.8013641168227834"
      ]
     },
     "execution_count": 330,
     "metadata": {},
     "output_type": "execute_result"
    }
   ],
   "source": [
    "se_avg"
   ]
  },
  {
   "cell_type": "markdown",
   "metadata": {},
   "source": [
    "### What is the true distribution of grades?\n",
    "\n",
    "The gradebook for this class only reflects one particular instance of each student's performance, subject to the effects of all the little events and hiccups that occurred throughout the quarter. Might you have done better on the midterm had your roommate kept you up all night with their coughing? Wasn't it lucky that the example you were studying just before the final happened to appear on the exam?\n",
    "\n",
    "**Question 9**\n",
    "\n",
    "This question will simulate these '(un)lucky, random events' by adding or subtracting random amounts to each assignment before calculating the final grades. These 'random amounts' will be drawn from a Gaussian distribution of mean 0 and a std deviation 0.02:\n",
    "```\n",
    "np.random.normal(0, 0.02, size=(num_rows, num_cols))\n",
    "```\n",
    "Intuitively, such a model says that random events may bump up or down a given grade (given as a proportion):\n",
    "- which on average has no effect on the class as a whole (mean 0),\n",
    "- which not uncommonly might perturb a grade by 2% (std dev 0.02).\n",
    "\n",
    "Create a function `total_points_with_noise` that takes in a dataframe like `grades`, adds noise to the assignments as described above, and returns the final scores using *the same procedure* as questions 1-7.\n",
    "\n",
    "*Note:* You should be able to reuse (or minorly change) the code from previous problems. Try to be DRY (don't repeat yourself)!\n",
    "\n",
    "*Note 1:* Once adding the noise to the assignment scores, use the `np.clip` function to be sure each assignment retains a score between 0% and 100%.\n",
    "\n",
    "*Note 2:* To check your work -- what would you expect the difference between the actual scores and noisy scores to be, on average?"
   ]
  },
  {
   "cell_type": "code",
   "execution_count": 338,
   "metadata": {},
   "outputs": [
    {
     "data": {
      "text/html": [
       "<div>\n",
       "<style scoped>\n",
       "    .dataframe tbody tr th:only-of-type {\n",
       "        vertical-align: middle;\n",
       "    }\n",
       "\n",
       "    .dataframe tbody tr th {\n",
       "        vertical-align: top;\n",
       "    }\n",
       "\n",
       "    .dataframe thead th {\n",
       "        text-align: right;\n",
       "    }\n",
       "</style>\n",
       "<table border=\"1\" class=\"dataframe\">\n",
       "  <thead>\n",
       "    <tr style=\"text-align: right;\">\n",
       "      <th></th>\n",
       "      <th>PID</th>\n",
       "      <th>College</th>\n",
       "      <th>Level</th>\n",
       "      <th>lab01</th>\n",
       "      <th>lab01 - Max Points</th>\n",
       "      <th>lab01 - Lateness (H:M:S)</th>\n",
       "      <th>lab02</th>\n",
       "      <th>lab02 - Max Points</th>\n",
       "      <th>lab02 - Lateness (H:M:S)</th>\n",
       "      <th>project01</th>\n",
       "      <th>...</th>\n",
       "      <th>discussion07 - Lateness (H:M:S)</th>\n",
       "      <th>discussion08</th>\n",
       "      <th>discussion08 - Max Points</th>\n",
       "      <th>discussion08 - Lateness (H:M:S)</th>\n",
       "      <th>discussion09</th>\n",
       "      <th>discussion09 - Max Points</th>\n",
       "      <th>discussion09 - Lateness (H:M:S)</th>\n",
       "      <th>discussion10</th>\n",
       "      <th>discussion10 - Max Points</th>\n",
       "      <th>discussion10 - Lateness (H:M:S)</th>\n",
       "    </tr>\n",
       "  </thead>\n",
       "  <tbody>\n",
       "    <tr>\n",
       "      <th>0</th>\n",
       "      <td>A14721419</td>\n",
       "      <td>SI</td>\n",
       "      <td>JR</td>\n",
       "      <td>100.000000</td>\n",
       "      <td>100.0</td>\n",
       "      <td>00:00:00</td>\n",
       "      <td>83.657369</td>\n",
       "      <td>100.0</td>\n",
       "      <td>00:00:00</td>\n",
       "      <td>73.716183</td>\n",
       "      <td>...</td>\n",
       "      <td>00:00:00</td>\n",
       "      <td>6.776485</td>\n",
       "      <td>10</td>\n",
       "      <td>00:00:00</td>\n",
       "      <td>10.583045</td>\n",
       "      <td>10</td>\n",
       "      <td>780:01:28</td>\n",
       "      <td>7.173018</td>\n",
       "      <td>10</td>\n",
       "      <td>00:00:00</td>\n",
       "    </tr>\n",
       "    <tr>\n",
       "      <th>1</th>\n",
       "      <td>A14883274</td>\n",
       "      <td>TH</td>\n",
       "      <td>JR</td>\n",
       "      <td>99.763548</td>\n",
       "      <td>100.0</td>\n",
       "      <td>00:00:00</td>\n",
       "      <td>48.656724</td>\n",
       "      <td>100.0</td>\n",
       "      <td>00:00:00</td>\n",
       "      <td>55.886215</td>\n",
       "      <td>...</td>\n",
       "      <td>669:12:21</td>\n",
       "      <td>5.918739</td>\n",
       "      <td>10</td>\n",
       "      <td>00:00:00</td>\n",
       "      <td>9.255999</td>\n",
       "      <td>10</td>\n",
       "      <td>00:00:00</td>\n",
       "      <td>10.990792</td>\n",
       "      <td>10</td>\n",
       "      <td>00:00:00</td>\n",
       "    </tr>\n",
       "    <tr>\n",
       "      <th>2</th>\n",
       "      <td>A14164800</td>\n",
       "      <td>SI</td>\n",
       "      <td>SR</td>\n",
       "      <td>83.954033</td>\n",
       "      <td>100.0</td>\n",
       "      <td>00:00:00</td>\n",
       "      <td>47.983608</td>\n",
       "      <td>100.0</td>\n",
       "      <td>00:00:00</td>\n",
       "      <td>44.367687</td>\n",
       "      <td>...</td>\n",
       "      <td>00:00:00</td>\n",
       "      <td>3.914565</td>\n",
       "      <td>10</td>\n",
       "      <td>00:04:51</td>\n",
       "      <td>8.095155</td>\n",
       "      <td>10</td>\n",
       "      <td>00:00:00</td>\n",
       "      <td>6.593893</td>\n",
       "      <td>10</td>\n",
       "      <td>00:00:00</td>\n",
       "    </tr>\n",
       "    <tr>\n",
       "      <th>3</th>\n",
       "      <td>A14847419</td>\n",
       "      <td>TH</td>\n",
       "      <td>JR</td>\n",
       "      <td>100.000000</td>\n",
       "      <td>100.0</td>\n",
       "      <td>00:00:00</td>\n",
       "      <td>97.816820</td>\n",
       "      <td>100.0</td>\n",
       "      <td>00:00:00</td>\n",
       "      <td>79.319304</td>\n",
       "      <td>...</td>\n",
       "      <td>00:00:00</td>\n",
       "      <td>11.463086</td>\n",
       "      <td>10</td>\n",
       "      <td>00:00:00</td>\n",
       "      <td>12.375590</td>\n",
       "      <td>10</td>\n",
       "      <td>00:00:00</td>\n",
       "      <td>10.009059</td>\n",
       "      <td>10</td>\n",
       "      <td>00:00:00</td>\n",
       "    </tr>\n",
       "    <tr>\n",
       "      <th>4</th>\n",
       "      <td>A14162943</td>\n",
       "      <td>SI</td>\n",
       "      <td>JR</td>\n",
       "      <td>66.808835</td>\n",
       "      <td>100.0</td>\n",
       "      <td>00:00:00</td>\n",
       "      <td>33.401088</td>\n",
       "      <td>100.0</td>\n",
       "      <td>00:00:00</td>\n",
       "      <td>44.629016</td>\n",
       "      <td>...</td>\n",
       "      <td>00:00:00</td>\n",
       "      <td>10.029243</td>\n",
       "      <td>10</td>\n",
       "      <td>00:00:00</td>\n",
       "      <td>3.354069</td>\n",
       "      <td>10</td>\n",
       "      <td>00:00:00</td>\n",
       "      <td>8.070026</td>\n",
       "      <td>10</td>\n",
       "      <td>00:00:00</td>\n",
       "    </tr>\n",
       "  </tbody>\n",
       "</table>\n",
       "<p>5 rows × 100 columns</p>\n",
       "</div>"
      ],
      "text/plain": [
       "         PID College Level       lab01  lab01 - Max Points  \\\n",
       "0  A14721419      SI    JR  100.000000               100.0   \n",
       "1  A14883274      TH    JR   99.763548               100.0   \n",
       "2  A14164800      SI    SR   83.954033               100.0   \n",
       "3  A14847419      TH    JR  100.000000               100.0   \n",
       "4  A14162943      SI    JR   66.808835               100.0   \n",
       "\n",
       "  lab01 - Lateness (H:M:S)      lab02  lab02 - Max Points  \\\n",
       "0                 00:00:00  83.657369               100.0   \n",
       "1                 00:00:00  48.656724               100.0   \n",
       "2                 00:00:00  47.983608               100.0   \n",
       "3                 00:00:00  97.816820               100.0   \n",
       "4                 00:00:00  33.401088               100.0   \n",
       "\n",
       "  lab02 - Lateness (H:M:S)  project01  ...  discussion07 - Lateness (H:M:S)  \\\n",
       "0                 00:00:00  73.716183  ...                         00:00:00   \n",
       "1                 00:00:00  55.886215  ...                        669:12:21   \n",
       "2                 00:00:00  44.367687  ...                         00:00:00   \n",
       "3                 00:00:00  79.319304  ...                         00:00:00   \n",
       "4                 00:00:00  44.629016  ...                         00:00:00   \n",
       "\n",
       "  discussion08  discussion08 - Max Points  discussion08 - Lateness (H:M:S)  \\\n",
       "0     6.776485                         10                         00:00:00   \n",
       "1     5.918739                         10                         00:00:00   \n",
       "2     3.914565                         10                         00:04:51   \n",
       "3    11.463086                         10                         00:00:00   \n",
       "4    10.029243                         10                         00:00:00   \n",
       "\n",
       "  discussion09  discussion09 - Max Points  discussion09 - Lateness (H:M:S)  \\\n",
       "0    10.583045                         10                        780:01:28   \n",
       "1     9.255999                         10                         00:00:00   \n",
       "2     8.095155                         10                         00:00:00   \n",
       "3    12.375590                         10                         00:00:00   \n",
       "4     3.354069                         10                         00:00:00   \n",
       "\n",
       "  discussion10  discussion10 - Max Points  discussion10 - Lateness (H:M:S)  \n",
       "0     7.173018                         10                         00:00:00  \n",
       "1    10.990792                         10                         00:00:00  \n",
       "2     6.593893                         10                         00:00:00  \n",
       "3    10.009059                         10                         00:00:00  \n",
       "4     8.070026                         10                         00:00:00  \n",
       "\n",
       "[5 rows x 100 columns]"
      ]
     },
     "execution_count": 338,
     "metadata": {},
     "output_type": "execute_result"
    }
   ],
   "source": [
    "grades.head()"
   ]
  },
  {
   "cell_type": "code",
   "execution_count": null,
   "metadata": {},
   "outputs": [],
   "source": [
    "np.random.normal(0, 0.02, size=(num_rows, num_cols))\n"
   ]
  },
  {
   "cell_type": "code",
   "execution_count": null,
   "metadata": {},
   "outputs": [],
   "source": []
  },
  {
   "cell_type": "code",
   "execution_count": 341,
   "metadata": {},
   "outputs": [
    {
     "name": "stderr",
     "output_type": "stream",
     "text": [
      "/Users/mac/Documents/GitHub/dsc80-fa20/projects/project01/project01.py:244: SettingWithCopyWarning: \n",
      "A value is trying to be set on a copy of a slice from a DataFrame.\n",
      "Try using .loc[row_indexer,col_indexer] = value instead\n",
      "\n",
      "See the caveats in the documentation: https://pandas.pydata.org/pandas-docs/stable/user_guide/indexing.html#returning-a-view-versus-a-copy\n",
      "  all_labs[names[i]] = (all_labs[names[i]] * penalized[late_name[i]])/all_max[max_pt[i]]\n"
     ]
    },
    {
     "data": {
      "text/plain": [
       "True"
      ]
     },
     "execution_count": 341,
     "metadata": {},
     "output_type": "execute_result"
    }
   ],
   "source": [
    "fp = os.path.join('data', 'grades.csv')\n",
    "grades = pd.read_csv(fp)\n",
    "out = proj.total_points_with_noise(grades)\n",
    "np.all((0 <= out) & (out <= 1))\n",
    "#    True\n",
    "0.7 < out.mean() < 0.9\n",
    " #   True"
   ]
  },
  {
   "cell_type": "code",
   "execution_count": 339,
   "metadata": {},
   "outputs": [
    {
     "data": {
      "text/plain": [
       "100"
      ]
     },
     "execution_count": 339,
     "metadata": {},
     "output_type": "execute_result"
    }
   ],
   "source": [
    "len(grades.columns)"
   ]
  },
  {
   "cell_type": "markdown",
   "metadata": {},
   "source": [
    "### Short-answer questions (hard-coded)\n",
    "\n",
    "Use your functions from above to understanding the data and answer the following questions. The function below should return **hard-coded values**. It should not compute anything!\n",
    "\n",
    "**Question 10**\n",
    "\n",
    "Create a function `short_answer` of zero variables that returns (hard-coded) answers to the following question in a list:\n",
    "0. For the class on average, what is the difference between students' scores (`total_points`) and their scores with noise (`total_points_with_noise`)? (Remark: plot the distribution of differences; does this align with what you know about binomial distributions?)\n",
    "1. What percentage of the class only sees their grade change at most (but not including) $\\pm 0.01$?\n",
    "2. What is the 95% confidence interval for the statistic above? (see [DSC10](https://www.inferentialthinking.com/chapters/13/3/Confidence_Intervals.html) and use `np.percentile`)\n",
    "3. What proportion of the class sees a change in their letter grade?\n",
    "4. The assumption behind the model in Question 9 is that:\n",
    "    - The (observed) gradebook well represents the true population of students,\n",
    "    - The noisy scores does not represent other possible observations drawn from the true population of students.\n",
    "    - Answer `True` or `False` in a list like `[True, True]`"
   ]
  },
  {
   "cell_type": "code",
   "execution_count": null,
   "metadata": {},
   "outputs": [],
   "source": []
  },
  {
   "cell_type": "code",
   "execution_count": 370,
   "metadata": {},
   "outputs": [],
   "source": [
    "result = []\n",
    "for i in range(2000):\n",
    "    tp = proj.total_points(grades)\n",
    "    tn = proj.total_points_with_noise(grades)\n",
    "    \n",
    "    result.append((abs(tp- tn) <= 0.01).mean())"
   ]
  },
  {
   "cell_type": "code",
   "execution_count": 378,
   "metadata": {},
   "outputs": [
    {
     "data": {
      "text/plain": [
       "0       0.674766\n",
       "1       0.680374\n",
       "2       0.699065\n",
       "3       0.674766\n",
       "4       0.669159\n",
       "          ...   \n",
       "1995    0.676636\n",
       "1996    0.661682\n",
       "1997    0.689720\n",
       "1998    0.672897\n",
       "1999    0.704673\n",
       "Length: 2000, dtype: float64"
      ]
     },
     "execution_count": 378,
     "metadata": {},
     "output_type": "execute_result"
    }
   ],
   "source": [
    "res = 1 - pd.Series(result)\n",
    "res"
   ]
  },
  {
   "cell_type": "code",
   "execution_count": 379,
   "metadata": {},
   "outputs": [
    {
     "data": {
      "text/plain": [
       "0.6355140186915889"
      ]
     },
     "execution_count": 379,
     "metadata": {},
     "output_type": "execute_result"
    }
   ],
   "source": [
    "np.percentile(res,2.5)"
   ]
  },
  {
   "cell_type": "code",
   "execution_count": 380,
   "metadata": {},
   "outputs": [
    {
     "data": {
      "text/plain": [
       "0.7158878504672896"
      ]
     },
     "execution_count": 380,
     "metadata": {},
     "output_type": "execute_result"
    }
   ],
   "source": [
    "np.percentile(res,97.5)"
   ]
  },
  {
   "cell_type": "code",
   "execution_count": 384,
   "metadata": {},
   "outputs": [
    {
     "data": {
      "text/plain": [
       "True"
      ]
     },
     "execution_count": 384,
     "metadata": {},
     "output_type": "execute_result"
    }
   ],
   "source": [
    "out = proj.short_answer()\n",
    "len(out) == 5\n",
    "#    True\n",
    "len(out[2]) == 2\n",
    " #   True\n",
    "50 < out[2][0] < 100\n",
    "#    True\n",
    "0 < out[3] < 1\n",
    "#    True\n",
    "isinstance(out[4][0], bool)\n",
    "#    True\n",
    "isinstance(out[4][1], bool)\n",
    "#    True"
   ]
  },
  {
   "cell_type": "markdown",
   "metadata": {},
   "source": [
    "# Congratulations, you finished the project!\n",
    "\n",
    "### Before you submit:\n",
    "* Be sure you run the doctests on all your code in project01.py\n",
    "\n",
    "### To submit:\n",
    "* **Upload the .py file to gradescope**"
   ]
  }
 ],
 "metadata": {
  "kernelspec": {
   "display_name": "Python 3",
   "language": "python",
   "name": "python3"
  },
  "language_info": {
   "codemirror_mode": {
    "name": "ipython",
    "version": 3
   },
   "file_extension": ".py",
   "mimetype": "text/x-python",
   "name": "python",
   "nbconvert_exporter": "python",
   "pygments_lexer": "ipython3",
   "version": "3.7.6"
  }
 },
 "nbformat": 4,
 "nbformat_minor": 2
}
